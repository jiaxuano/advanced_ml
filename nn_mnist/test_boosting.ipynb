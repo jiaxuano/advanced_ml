{
 "cells": [
  {
   "cell_type": "markdown",
   "metadata": {},
   "source": [
    "## Boosting neural networks"
   ]
  },
  {
   "cell_type": "code",
   "execution_count": 1,
   "metadata": {},
   "outputs": [],
   "source": [
    "%load_ext autoreload\n",
    "%autoreload 2"
   ]
  },
  {
   "cell_type": "code",
   "execution_count": 2,
   "metadata": {},
   "outputs": [],
   "source": [
    "from pathlib import Path\n",
    "import pandas as pd\n",
    "import numpy as np"
   ]
  },
  {
   "cell_type": "code",
   "execution_count": 3,
   "metadata": {},
   "outputs": [],
   "source": [
    "from boosting_nn import *"
   ]
  },
  {
   "cell_type": "code",
   "execution_count": 4,
   "metadata": {},
   "outputs": [],
   "source": [
    "PATH = Path(\"data\")"
   ]
  },
  {
   "cell_type": "code",
   "execution_count": 5,
   "metadata": {},
   "outputs": [],
   "source": [
    "X, Y = parse_spambase_data(PATH/\"tiny.spam.train\")\n",
    "X_val, Y_val = parse_spambase_data(PATH/\"tiny.spam.test\")\n",
    "X, X_val = normalize(X, X_val)"
   ]
  },
  {
   "cell_type": "code",
   "execution_count": 6,
   "metadata": {},
   "outputs": [],
   "source": [
    "xx = np.around(X_val[0, :3],3)\n",
    "assert(np.array_equal(xx, np.array([-0.433, -0.491, -0.947])))"
   ]
  },
  {
   "cell_type": "code",
   "execution_count": 7,
   "metadata": {},
   "outputs": [],
   "source": [
    "X, Y = parse_spambase_data(PATH/\"spambase.train\")\n",
    "X_val, Y_val = parse_spambase_data(PATH/\"spambase.test\")\n",
    "X, X_val = normalize(X, X_val)"
   ]
  },
  {
   "cell_type": "code",
   "execution_count": 8,
   "metadata": {},
   "outputs": [],
   "source": [
    "xx = np.around(X[0, :3],3)\n",
    "assert(np.array_equal(xx, np.array([-0.343, -0.168, -0.556])))"
   ]
  },
  {
   "cell_type": "code",
   "execution_count": 9,
   "metadata": {},
   "outputs": [],
   "source": [
    "y = np.array([-1, -1, 1, 1])\n",
    "fm = np.array([-0.4, .1, -0.3 , 2])\n",
    "res = compute_pseudo_residual(y, fm)\n",
    "xx = np.around(res, 3)\n",
    "actual = np.array([-0.401, -0.525,  0.574,  0.119])\n",
    "assert(np.array_equal(xx, actual))"
   ]
  },
  {
   "cell_type": "code",
   "execution_count": 10,
   "metadata": {},
   "outputs": [],
   "source": [
    "X, Y = parse_spambase_data(PATH/\"tiny.spam.train\")\n",
    "X_val, Y_val = parse_spambase_data(PATH/\"tiny.spam.test\")\n",
    "X, X_val = normalize(X, X_val)"
   ]
  },
  {
   "cell_type": "code",
   "execution_count": 11,
   "metadata": {},
   "outputs": [],
   "source": [
    "nu = .1\n",
    "f0, models = boostingNN(X, Y, num_iter=10, nu=nu)\n",
    "y_hat = gradient_boosting_predict(X, f0, models, nu=nu)"
   ]
  },
  {
   "cell_type": "code",
   "execution_count": 12,
   "metadata": {},
   "outputs": [],
   "source": [
    "acc_train = accuracy(Y, y_hat)\n",
    "assert(acc_train==1)"
   ]
  },
  {
   "cell_type": "code",
   "execution_count": 13,
   "metadata": {},
   "outputs": [],
   "source": [
    "y_hat = gradient_boosting_predict(X_val, f0, models, nu=nu)\n",
    "acc_val = accuracy(Y_val, y_hat)\n",
    "assert(acc_val==0.8)"
   ]
  },
  {
   "cell_type": "code",
   "execution_count": 14,
   "metadata": {},
   "outputs": [],
   "source": [
    "X, Y = parse_spambase_data(PATH/\"spambase.train\")\n",
    "X_val, Y_val = parse_spambase_data(PATH/\"spambase.test\")\n",
    "X, X_val = normalize(X, X_val)"
   ]
  },
  {
   "cell_type": "code",
   "execution_count": 15,
   "metadata": {},
   "outputs": [],
   "source": [
    "nu = .1\n",
    "f0, models = boostingNN(X, Y, num_iter=100, nu=nu)\n",
    "y_hat = gradient_boosting_predict(X, f0, models, nu=nu)"
   ]
  },
  {
   "cell_type": "code",
   "execution_count": 16,
   "metadata": {},
   "outputs": [],
   "source": [
    "acc_train = accuracy(Y, y_hat)\n",
    "assert(np.around(acc_train, decimals=4)==0.9192)"
   ]
  },
  {
   "cell_type": "code",
   "execution_count": 17,
   "metadata": {},
   "outputs": [],
   "source": [
    "y_hat = gradient_boosting_predict(X_val, f0, models, nu=nu)\n",
    "acc_val = accuracy(Y_val, y_hat)\n",
    "assert(np.around(acc_val, decimals=4)==0.927)"
   ]
  }
 ],
 "metadata": {
  "kernelspec": {
   "display_name": "Python 3",
   "language": "python",
   "name": "python3"
  },
  "language_info": {
   "codemirror_mode": {
    "name": "ipython",
    "version": 3
   },
   "file_extension": ".py",
   "mimetype": "text/x-python",
   "name": "python",
   "nbconvert_exporter": "python",
   "pygments_lexer": "ipython3",
   "version": "3.8.3"
  }
 },
 "nbformat": 4,
 "nbformat_minor": 4
}
